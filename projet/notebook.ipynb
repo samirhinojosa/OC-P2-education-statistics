{
 "cells": [
  {
   "source": [
    "# Analyze data from education systems"
   ],
   "cell_type": "markdown",
   "metadata": {}
  },
  {
   "source": [
    "from math import prod\n",
    "import pandas as pd\n",
    "import matplotlib .pyplot as plt\n",
    "import seaborn as sns\n",
    "\n",
    "%matplotlib inline\n",
    "sns.set()"
   ],
   "cell_type": "code",
   "metadata": {},
   "execution_count": null,
   "outputs": []
  },
  {
   "source": [
    "## Methods cell"
   ],
   "cell_type": "markdown",
   "metadata": {}
  },
  {
   "source": [
    "def df_initial_analysis(df, name_df):\n",
    "    \"\"\"\n",
    "    Initial analysis on the DataFrame.\n",
    "\n",
    "    Args:\n",
    "        df (pandas.DataFrame): DataFrame to analyze.\n",
    "        name_df (str): DataFrame name.\n",
    "\n",
    "    Returns:\n",
    "        None.\n",
    "        Print the initial analysis on the DataFrame. \n",
    "    \"\"\"\n",
    "    if df.empty:\n",
    "        print(\"The\", name_df, \"dataset is empty. Please verify the file.\")\n",
    "    else:\n",
    "        empty_cols = [col for col in df.columns if df[col].isna().all()] # identifying empty columns\n",
    "        df_rows_duplicates = df[df.duplicated()] #identifying full duplicates rows\n",
    "        \n",
    "        # Creating a dataset based on Type object and records by columns\n",
    "        type_cols = df.dtypes.apply(lambda x: x.name).to_dict() \n",
    "        df_resume = pd.DataFrame(list(type_cols.items()), columns = [\"Name\", \"Type\"])\n",
    "        df_resume[\"Records\"] = list(df.count())\n",
    "        \n",
    "        print(\"\\nInitial Analysis of\", name_df, \"dataset\")\n",
    "        print(\"--------------------------------------------------------------------------\")\n",
    "        print(\"- Dataset shape:                 \", df.shape[0], \"rows and\", df.shape[1], \"columns\")\n",
    "        print(\"- Total of NaN values:           \", df.isna().sum().sum())\n",
    "        print(\"- Percentage of NaN:             \", round((df.isna().sum().sum() / prod(df.shape)) * 100, 2), \"%\")\n",
    "        print(\"- Total of full duplicates rows: \", df_rows_duplicates.shape[0])\n",
    "        print(\"- Total of empty columns:        \", len(empty_cols))\n",
    "        print(\" + The empty column is:          \", empty_cols) if len(empty_cols) == 1 \\\n",
    "            else (print(\" + The empty column are:          \", empty_cols) if len(empty_cols) >= 1 else None)\n",
    "        print(\"\\n- Type object and records by columns\")\n",
    "        print(\"--------------------------------------------------------------------------\")\n",
    "        print(df_resume.sort_values(\"Records\", ascending=False))\n",
    "\n",
    "\n",
    "def comparison_dfs(df_original, df_copy):\n",
    "    \"\"\"\n",
    "    Create a DataFrame based on comparación between the original DataFrame and the copy DataFrame.\n",
    "    Args:\n",
    "        df_original (pandas.DataFrame): DataFrame original.\n",
    "        df_copy (pandas.DataFrame): DataFrame copy.\n",
    "    Returns:\n",
    "        df_comparison (pandas.DataFrame): DataFrame comparison.\n",
    "    \"\"\"\n",
    "    df_comparison = pd.DataFrame({\n",
    "        \"Moment\" : [\"Before\", \"After\"],\n",
    "        \"Total values\" : [prod(df_original.shape), prod(df_copy.shape)], \n",
    "        \"Valid values\" : [(prod(df_original.shape)-df_original.isna().sum().sum()), (prod(df_copy.shape)-df_copy.isna().sum().sum())],\n",
    "        \"Missing values\" : [df_original.isna().sum().sum(), df_copy.isna().sum().sum()]\n",
    "    })\n",
    "    return df_comparison\n",
    "\n",
    "\n",
    "def remove_columns_by_percentage_of_nan_values(df):\n",
    "    \"\"\"\n",
    "    Remove columns in DataFrame based on percentage of NaN values in columns.\n",
    "    Args:\n",
    "        df (pandas.DataFrame): DataFrame to work.\n",
    "    Returns:\n",
    "        df (pandas.DataFrame): DataFrame worked.\n",
    "    \"\"\"\n",
    "    percentage = 50 # Removing columns with more than 50% NaN values \n",
    "\n",
    "    for col in df.columns:\n",
    "        if round(((df.shape[0] - df[col].count()) / df.shape[0]) * 100, 2) > percentage:\n",
    "            print(\"- The column\",  df[col].name, \"has been removed.\")\n",
    "            df.drop([col], axis=1, inplace=True)\n",
    "\n",
    "    return df"
   ],
   "cell_type": "code",
   "metadata": {},
   "execution_count": null,
   "outputs": []
  },
  {
   "source": [
    "## Loading data"
   ],
   "cell_type": "markdown",
   "metadata": {}
  },
  {
   "cell_type": "code",
   "execution_count": null,
   "metadata": {},
   "outputs": [],
   "source": [
    "# loading Dataset and removing the empty columns (the empty columns, unnamed, etc.)\n",
    "country = pd.read_csv(\"datasets/EdStatsCountry.csv\")\n",
    "serie = pd.read_csv(\"datasets/EdStatsSeries.csv\")\n",
    "country_serie = pd.read_csv(\"datasets/EdStatsCountry-Series.csv\")\n",
    "foot_note = pd.read_csv(\"datasets/EdStatsFootNote.csv\")\n",
    "data = pd.read_csv(\"datasets/EdStatsData.csv\")"
   ]
  },
  {
   "source": [
    "## Initial data analysis\n",
    "- Knowing the entities of the datasets.<br>\n",
    "\n",
    "    - **Country** dataset **`\"EdStatsCountry.csv\"`**.<br>\n",
    "    Des renseignements en général sur l'économie de chaque pays du monde.\n",
    "    \n",
    "    - **Serie** dataset **`\"EdStatsSeries.csv\"`**.<br>\n",
    "    Des renseignements en peu plus de détails sur les indicateurs économiques.\n",
    "    \n",
    "    - **Country-Serie** dataset **`\"EdStatsCountry-Series.csv\"`**.<br>\n",
    "    La source des données sur l'information relationnelle entre **`\"EdStatsCountry.csv\"`** et **`\"EdStatsSeries.csv\"`**.\n",
    "\n",
    "    - **Foot Note** dataset **`\"EdStatsFootNote.csv\"`**.<br>\n",
    "    L’année d’origine des données et aussi une description sur les indicateurs.\n",
    "\n",
    "    - **Data** dataset **`\"EdStatsData.csv\"`**.<br>\n",
    "    Le dataset principal qui contient en détails le renseignement sur les indicateurs par an.\n",
    "\n",
    "- Entity relationship diagram.<br>\n",
    "<br>Il existe une relation entre les datasets à travers les colonnes **`\"Country Code\"`** et **`\"Series Code\"`** principalement.\n",
    "![Entity relationship diagram](img/entity_relationship.png)"
   ],
   "cell_type": "markdown",
   "metadata": {}
  },
  {
   "source": [
    "### **`\"Country\"`** dataset"
   ],
   "cell_type": "markdown",
   "metadata": {}
  },
  {
   "cell_type": "code",
   "execution_count": null,
   "metadata": {},
   "outputs": [],
   "source": [
    "country.head(3)"
   ]
  },
  {
   "cell_type": "code",
   "execution_count": null,
   "metadata": {},
   "outputs": [],
   "source": [
    "# Describing the numeric columns\n",
    "country.describe()"
   ]
  },
  {
   "cell_type": "code",
   "execution_count": null,
   "metadata": {
    "tags": []
   },
   "outputs": [],
   "source": [
    "# Resume of dataset\n",
    "df_initial_analysis(country, \"country\")"
   ]
  },
  {
   "cell_type": "code",
   "execution_count": null,
   "metadata": {},
   "outputs": [],
   "source": [
    "# Drawing missing values in Country dataset\n",
    "labels = [\"records\", \"missing values\"]\n",
    "vals = [prod(country.shape)-country.isna().sum().sum(), country.isna().sum().sum()]\n",
    "explode = (0, 0.01)\n",
    "\n",
    "pie, ax = plt.subplots(figsize=[10,6])\n",
    "plt.axis(\"equal\")\n",
    "plt.pie(x=vals, labels=labels, explode=explode,  autopct=\"%.1f%%\", pctdistance=0.5)\n",
    "plt.title(\"Missing values in Country dataset\", fontsize=14)\n",
    "plt.show()"
   ]
  },
  {
   "source": [
    "### **`\"Serie\"`** dataset"
   ],
   "cell_type": "markdown",
   "metadata": {}
  },
  {
   "cell_type": "code",
   "execution_count": null,
   "metadata": {},
   "outputs": [],
   "source": [
    "serie.head(3)"
   ]
  },
  {
   "cell_type": "code",
   "execution_count": null,
   "metadata": {},
   "outputs": [],
   "source": [
    "# Describing the numeric columns\n",
    "serie.describe()"
   ]
  },
  {
   "cell_type": "code",
   "execution_count": null,
   "metadata": {},
   "outputs": [],
   "source": [
    "# Resume of dataset\n",
    "df_initial_analysis(serie, \"serie\")"
   ]
  },
  {
   "cell_type": "code",
   "execution_count": null,
   "metadata": {},
   "outputs": [],
   "source": [
    "# Drawing missing values in Serie dataset\n",
    "labels = [\"records\", \"missing values\"]\n",
    "vals = [prod(serie.shape)-serie.isna().sum().sum(), serie.isna().sum().sum()]\n",
    "explode = (0, 0.01)\n",
    "\n",
    "pie, ax = plt.subplots(figsize=[10,6])\n",
    "plt.axis(\"equal\")\n",
    "plt.pie(x=vals, labels=labels, explode=explode,  autopct=\"%.1f%%\", pctdistance=0.5)\n",
    "plt.title(\"Missing values in Serie dataset\", fontsize=14)\n",
    "plt.show()"
   ]
  },
  {
   "source": [
    "### **`\"Country-Serie\"`** dataset"
   ],
   "cell_type": "markdown",
   "metadata": {}
  },
  {
   "cell_type": "code",
   "execution_count": null,
   "metadata": {},
   "outputs": [],
   "source": [
    "country_serie.head(3)"
   ]
  },
  {
   "cell_type": "code",
   "execution_count": null,
   "metadata": {},
   "outputs": [],
   "source": [
    "# Resume of dataset\n",
    "df_initial_analysis(country_serie, \"country_serie\")"
   ]
  },
  {
   "cell_type": "code",
   "execution_count": null,
   "metadata": {},
   "outputs": [],
   "source": [
    "# Drawing missing values in Country-Serie dataset\n",
    "labels = [\"records\", \"missing values\"]\n",
    "vals = [prod(country_serie.shape)-country_serie.isna().sum().sum(), country_serie.isna().sum().sum()]\n",
    "explode = (0, 0.01)\n",
    "\n",
    "pie, ax = plt.subplots(figsize=[10,6])\n",
    "plt.axis(\"equal\")\n",
    "plt.pie(x=vals, labels=labels, explode=explode,  autopct=\"%.1f%%\", pctdistance=0.5)\n",
    "plt.title(\"Missing values in Country-Serie dataset\", fontsize=14)\n",
    "plt.show()"
   ]
  },
  {
   "source": [
    "### **`\"Foot Note\"`** dataset"
   ],
   "cell_type": "markdown",
   "metadata": {}
  },
  {
   "cell_type": "code",
   "execution_count": null,
   "metadata": {},
   "outputs": [],
   "source": [
    "foot_note.head(3)"
   ]
  },
  {
   "cell_type": "code",
   "execution_count": null,
   "metadata": {},
   "outputs": [],
   "source": [
    "# Describing the numeric columns\n",
    "foot_note.describe()"
   ]
  },
  {
   "cell_type": "code",
   "execution_count": null,
   "metadata": {},
   "outputs": [],
   "source": [
    "# Resume of dataset\n",
    "df_initial_analysis(foot_note, \"foot_note\")"
   ]
  },
  {
   "cell_type": "code",
   "execution_count": null,
   "metadata": {},
   "outputs": [],
   "source": [
    "# Drawing missing values in Foot Note dataset\n",
    "labels = [\"records\", \"missing values\"]\n",
    "vals = [prod(foot_note.shape)-foot_note.isna().sum().sum(), foot_note.isna().sum().sum()]\n",
    "explode = (0, 0.01)\n",
    "\n",
    "pie, ax = plt.subplots(figsize=[10,6])\n",
    "plt.axis(\"equal\")\n",
    "plt.pie(x=vals, labels=labels, explode=explode,  autopct=\"%.1f%%\", pctdistance=0.5)\n",
    "plt.title(\"Missing values in Foot-Note dataset\", fontsize=14)\n",
    "plt.show()"
   ]
  },
  {
   "source": [
    "### **`\"Data\"`** dataset"
   ],
   "cell_type": "code",
   "metadata": {},
   "execution_count": null,
   "outputs": []
  },
  {
   "cell_type": "code",
   "execution_count": null,
   "metadata": {},
   "outputs": [],
   "source": [
    "data.head(3)"
   ]
  },
  {
   "cell_type": "code",
   "execution_count": null,
   "metadata": {},
   "outputs": [],
   "source": [
    "# Describing the numeric columns\n",
    "data.describe()"
   ]
  },
  {
   "cell_type": "code",
   "execution_count": null,
   "metadata": {},
   "outputs": [],
   "source": [
    "# Resume of dataset\n",
    "df_initial_analysis(data, \"data\")"
   ]
  },
  {
   "cell_type": "code",
   "execution_count": null,
   "metadata": {},
   "outputs": [],
   "source": [
    "# Drawing missing values in Data dataset\n",
    "labels = [\"records\", \"missing values\"]\n",
    "vals = [prod(data.shape)-data.isna().sum().sum(), data.isna().sum().sum()]\n",
    "explode = (0, 0.01)\n",
    "\n",
    "pie, ax = plt.subplots(figsize=[10,6])\n",
    "plt.axis(\"equal\")\n",
    "plt.pie(x=vals, labels=labels, explode=explode,  autopct=\"%.1f%%\", pctdistance=0.5)\n",
    "plt.title(\"Missing values in Data dataset\", fontsize=14)\n",
    "plt.show()"
   ]
  },
  {
   "source": [
    "## Data cleanup\n",
    "- Creating copies from all datasets.\n",
    "- Deleting empty columns and empty rows.\n",
    "- Filtring by list of **`\"countries\"`** as given in **`\"ISO 3166-1\"`** and the corresponding **`\"ISO 3166-1-alpha-2\"`** code elements.<br>\n",
    "https://datahub.io/core/country-list#resource-data"
   ],
   "cell_type": "markdown",
   "metadata": {}
  },
  {
   "source": [
    "### Loading data and removing empty columns and empty rows"
   ],
   "cell_type": "markdown",
   "metadata": {}
  },
  {
   "cell_type": "code",
   "execution_count": null,
   "metadata": {},
   "outputs": [],
   "source": [
    "country_copy = country.dropna(axis=\"columns\", how=\"all\").dropna(axis=\"rows\", how=\"all\")\n",
    "serie_copy = serie.dropna(axis=\"columns\", how=\"all\").dropna(axis=\"rows\", how=\"all\")\n",
    "country_serie_copy = country_serie.dropna(axis=\"columns\", how=\"all\").dropna(axis=\"rows\", how=\"all\")\n",
    "foot_note_copy = foot_note.dropna(axis=\"columns\", how=\"all\").dropna(axis=\"rows\", how=\"all\")\n",
    "data_copy = data.dropna(axis=\"columns\", how=\"all\").dropna(axis=\"rows\", how=\"all\")"
   ]
  },
  {
   "source": [
    "### Comparing datasets before and after removing empty columns/rows"
   ],
   "cell_type": "markdown",
   "metadata": {}
  },
  {
   "cell_type": "code",
   "execution_count": null,
   "metadata": {},
   "outputs": [],
   "source": [
    "# Comparing missing values in Country dataset before and after removing empty columns/rows\n",
    "fig, ((ax1, ax2), (ax3, ax4), (ax5, ax6), (ax7, ax8), (ax9, ax10)) = plt.subplots(nrows=5, ncols=2, figsize=[10,20])\n",
    "labels = [\"records\", \"missing values\"]\n",
    "explode = (0, 0.01)\n",
    "\n",
    "vals_ax1 = [prod(country.shape)-country.isna().sum().sum(), country.isna().sum().sum()]\n",
    "ax1.pie(x=vals_ax1, labels=labels, autopct=\"%.1f%%\", pctdistance=0.5)\n",
    "ax1.set_title(\"Country dataset\", fontsize=14)\n",
    "\n",
    "vals_ax2 = [prod(country_copy.shape)-country_copy.isna().sum().sum(), country_copy.isna().sum().sum()]\n",
    "ax2.pie(x=vals_ax2, labels=labels, autopct=\"%.1f%%\", pctdistance=0.5)\n",
    "ax2.set_title(\"Country dataset after removing empty columns/rows\", fontsize=14)\n",
    "\n",
    "vals_ax3 = [prod(serie.shape)-serie.isna().sum().sum(), serie.isna().sum().sum()]\n",
    "ax3.pie(x=vals_ax3, labels=labels, autopct=\"%.1f%%\", pctdistance=0.5)\n",
    "ax3.set_title(\"Serie dataset\", fontsize=14)\n",
    "\n",
    "vals_ax4 = [prod(serie_copy.shape)-serie_copy.isna().sum().sum(), serie_copy.isna().sum().sum()]\n",
    "ax4.pie(x=vals_ax4, labels=labels, autopct=\"%.1f%%\", pctdistance=0.5)\n",
    "ax4.set_title(\"Serie dataset after removing empty columns/rows\", fontsize=14)\n",
    "\n",
    "vals_ax5 = [prod(country_serie.shape)-country_serie.isna().sum().sum(), country_serie.isna().sum().sum()]\n",
    "ax5.pie(x=vals_ax5, labels=labels, autopct=\"%.1f%%\", pctdistance=0.5)\n",
    "ax5.set_title(\"Country-Serie dataset\", fontsize=14)\n",
    "\n",
    "vals_ax6 = [prod(country_serie_copy.shape)-country_serie_copy.isna().sum().sum(), country_serie_copy.isna().sum().sum()]\n",
    "ax6.pie(x=vals_ax6, labels=labels, autopct=\"%.1f%%\", pctdistance=0.5)\n",
    "ax6.set_title(\"Country-Serie dataset after removing empty columns/rows\", fontsize=14)\n",
    "\n",
    "vals_ax7 = [prod(foot_note.shape)-foot_note.isna().sum().sum(), foot_note.isna().sum().sum()]\n",
    "ax7.pie(x=vals_ax7, labels=labels, autopct=\"%.1f%%\", pctdistance=0.5)\n",
    "ax7.set_title(\"Foot Note dataset\", fontsize=14)\n",
    "\n",
    "vals_ax8 = [prod(foot_note_copy.shape)-foot_note_copy.isna().sum().sum(), foot_note_copy.isna().sum().sum()]\n",
    "ax8.pie(x=vals_ax8, labels=labels, autopct=\"%.1f%%\", pctdistance=0.5)\n",
    "ax8.set_title(\"Foot Note dataset after removing empty columns/rows\", fontsize=14)\n",
    "\n",
    "vals_ax9 = [prod(data.shape)-data.isna().sum().sum(), data.isna().sum().sum()]\n",
    "ax9.pie(x=vals_ax9, labels=labels, autopct=\"%.1f%%\", pctdistance=0.5)\n",
    "ax9.set_title(\"Data dataset\", fontsize=14)\n",
    "\n",
    "vals_ax10 = [prod(data_copy.shape)-data_copy.isna().sum().sum(), data_copy.isna().sum().sum()]\n",
    "ax10.pie(x=vals_ax10, labels=labels, autopct=\"%.1f%%\", pctdistance=0.5)\n",
    "ax10.set_title(\"Data dataset after removing empty columns/rows\", fontsize=14)\n",
    "\n",
    "plt.tight_layout()\n",
    "plt.show()"
   ]
  },
  {
   "source": [
    "### Comparing **`\"Country\"`** dataset before and after removing empty columns/rows"
   ],
   "cell_type": "markdown",
   "metadata": {}
  },
  {
   "cell_type": "code",
   "execution_count": null,
   "metadata": {},
   "outputs": [],
   "source": [
    "df_comparison = comparison_dfs(country, country_copy)\n",
    "fig, ax1 = plt.subplots(figsize=(10, 10))\n",
    "dt = df_comparison.melt(id_vars=\"Moment\").rename(columns=str.title)\n",
    "splot=sns.barplot(x=\"Moment\", y=\"Value\", data=dt, hue=\"Variable\", ax=ax1)\n",
    "for p in splot.patches:\n",
    "    splot.annotate(format(p.get_height(), \".1f\"), (p.get_x() + p.get_width() / 2., p.get_height()), \n",
    "                    ha=\"center\", va=\"center\", xytext=(0, 9), textcoords=\"offset points\")\n",
    "plt.xlabel(\"Comparison moments\", size=12)\n",
    "plt.ylabel(\"Number of records\", size=12)\n",
    "plt.title(\"Country dataset before and after removing empty columns/rows\", size=14)\n",
    "sns.despine(fig)"
   ]
  },
  {
   "source": [
    "### Comparing **`\"Serie\"`** dataset before and after removing empty columns/rows"
   ],
   "cell_type": "markdown",
   "metadata": {}
  },
  {
   "cell_type": "code",
   "execution_count": null,
   "metadata": {},
   "outputs": [],
   "source": [
    "df_comparison = comparison_dfs(serie, serie_copy)\n",
    "fig, ax1 = plt.subplots(figsize=(10, 10))\n",
    "dt = df_comparison.melt(id_vars=\"Moment\").rename(columns=str.title)\n",
    "splot=sns.barplot(x=\"Moment\", y=\"Value\", data=dt, hue=\"Variable\", ax=ax1)\n",
    "for p in splot.patches:\n",
    "    splot.annotate(format(p.get_height(), \".1f\"), (p.get_x() + p.get_width() / 2., p.get_height()), \n",
    "                    ha=\"center\", va=\"center\", xytext=(0, 9), textcoords=\"offset points\")\n",
    "plt.xlabel(\"Comparison moments\", size=12)\n",
    "plt.ylabel(\"Number of records\", size=12)\n",
    "plt.title(\"Serie dataset before and after removing empty columns/rows\", size=14)\n",
    "sns.despine(fig)"
   ]
  },
  {
   "source": [
    "### Comparing **`\"Country-Serie\"`** dataset before and after removing empty columns/rows"
   ],
   "cell_type": "markdown",
   "metadata": {}
  },
  {
   "cell_type": "code",
   "execution_count": null,
   "metadata": {},
   "outputs": [],
   "source": [
    "df_comparison = comparison_dfs(country_serie, country_serie_copy)\n",
    "fig, ax1 = plt.subplots(figsize=(10, 10))\n",
    "dt = df_comparison.melt(id_vars=\"Moment\").rename(columns=str.title)\n",
    "splot=sns.barplot(x=\"Moment\", y=\"Value\", data=dt, hue=\"Variable\", ax=ax1)\n",
    "for p in splot.patches:\n",
    "    splot.annotate(format(p.get_height(), \".1f\"), (p.get_x() + p.get_width() / 2., p.get_height()), \n",
    "                    ha=\"center\", va=\"center\", xytext=(0, 9), textcoords=\"offset points\")\n",
    "plt.xlabel(\"Comparison moments\", size=12)\n",
    "plt.ylabel(\"Number of records\", size=12)\n",
    "plt.title(\"Country-Serie dataset before and after removing empty columns/rows\", size=14)\n",
    "sns.despine(fig)"
   ]
  },
  {
   "source": [
    "### Comparing **`\"FootNote\"`** dataset before and after removing empty columns/rows"
   ],
   "cell_type": "markdown",
   "metadata": {}
  },
  {
   "cell_type": "code",
   "execution_count": null,
   "metadata": {},
   "outputs": [],
   "source": [
    "df_comparison = comparison_dfs(foot_note, foot_note_copy)\n",
    "fig, ax1 = plt.subplots(figsize=(10, 10))\n",
    "dt = df_comparison.melt(id_vars=\"Moment\").rename(columns=str.title)\n",
    "splot=sns.barplot(x=\"Moment\", y=\"Value\", data=dt, hue=\"Variable\", ax=ax1)\n",
    "for p in splot.patches:\n",
    "    splot.annotate(format(p.get_height(), \".1f\"), (p.get_x() + p.get_width() / 2., p.get_height()), \n",
    "                    ha=\"center\", va=\"center\", xytext=(0, 9), textcoords=\"offset points\")\n",
    "plt.xlabel(\"Comparison moments\", size=12)\n",
    "plt.ylabel(\"Number of records\", size=12)\n",
    "plt.title(\"Foot Note dataset before and after removing empty columns/rows\", size=14)\n",
    "sns.despine(fig)"
   ]
  },
  {
   "source": [
    "### Comparing **`\"Data\"`** dataset before and after removing empty columns/rows"
   ],
   "cell_type": "markdown",
   "metadata": {}
  },
  {
   "cell_type": "code",
   "execution_count": null,
   "metadata": {},
   "outputs": [],
   "source": [
    "df_comparison = comparison_dfs(data, data_copy)\n",
    "fig, ax1 = plt.subplots(figsize=(10, 10))\n",
    "dt = df_comparison.melt(id_vars=\"Moment\").rename(columns=str.title)\n",
    "splot=sns.barplot(x=\"Moment\", y=\"Value\", data=dt, hue=\"Variable\", ax=ax1)\n",
    "for p in splot.patches:\n",
    "    splot.annotate(format(p.get_height(), \".1f\"), (p.get_x() + p.get_width() / 2., p.get_height()), \n",
    "                    ha=\"center\", va=\"center\", xytext=(0, 9), textcoords=\"offset points\")\n",
    "plt.xlabel(\"Comparison moments\", size=12)\n",
    "plt.ylabel(\"Number of records\", size=12)\n",
    "plt.title(\"Data dataset before and after removing empty columns/rows\", size=14)\n",
    "sns.despine(fig)"
   ]
  },
  {
   "source": [
    "### Cleaning **`\"Country\"`** dataset"
   ],
   "cell_type": "markdown",
   "metadata": {}
  },
  {
   "cell_type": "code",
   "execution_count": null,
   "metadata": {},
   "outputs": [],
   "source": []
  },
  {
   "cell_type": "code",
   "execution_count": null,
   "metadata": {},
   "outputs": [],
   "source": []
  },
  {
   "cell_type": "code",
   "execution_count": null,
   "metadata": {},
   "outputs": [],
   "source": []
  },
  {
   "cell_type": "code",
   "execution_count": null,
   "metadata": {},
   "outputs": [],
   "source": []
  },
  {
   "cell_type": "code",
   "execution_count": null,
   "metadata": {},
   "outputs": [],
   "source": []
  },
  {
   "cell_type": "code",
   "execution_count": null,
   "metadata": {},
   "outputs": [],
   "source": []
  },
  {
   "cell_type": "code",
   "execution_count": null,
   "metadata": {},
   "outputs": [],
   "source": []
  },
  {
   "cell_type": "code",
   "execution_count": null,
   "metadata": {},
   "outputs": [],
   "source": []
  },
  {
   "source": [],
   "cell_type": "code",
   "metadata": {},
   "execution_count": null,
   "outputs": []
  },
  {
   "cell_type": "code",
   "execution_count": null,
   "metadata": {},
   "outputs": [],
   "source": []
  },
  {
   "cell_type": "code",
   "execution_count": null,
   "metadata": {},
   "outputs": [],
   "source": []
  },
  {
   "cell_type": "code",
   "execution_count": null,
   "metadata": {},
   "outputs": [],
   "source": []
  },
  {
   "cell_type": "code",
   "execution_count": null,
   "metadata": {
    "scrolled": false
   },
   "outputs": [],
   "source": []
  },
  {
   "cell_type": "code",
   "execution_count": null,
   "metadata": {},
   "outputs": [],
   "source": []
  },
  {
   "cell_type": "code",
   "execution_count": null,
   "metadata": {},
   "outputs": [],
   "source": []
  },
  {
   "source": [],
   "cell_type": "markdown",
   "metadata": {}
  },
  {
   "cell_type": "code",
   "execution_count": null,
   "metadata": {},
   "outputs": [],
   "source": []
  },
  {
   "cell_type": "code",
   "execution_count": null,
   "metadata": {},
   "outputs": [],
   "source": []
  },
  {
   "cell_type": "code",
   "execution_count": null,
   "metadata": {},
   "outputs": [],
   "source": []
  },
  {
   "cell_type": "code",
   "execution_count": null,
   "metadata": {
    "scrolled": false
   },
   "outputs": [],
   "source": []
  },
  {
   "cell_type": "code",
   "execution_count": null,
   "metadata": {},
   "outputs": [],
   "source": []
  },
  {
   "cell_type": "code",
   "execution_count": null,
   "metadata": {},
   "outputs": [],
   "source": []
  },
  {
   "source": [],
   "cell_type": "code",
   "metadata": {},
   "execution_count": null,
   "outputs": []
  },
  {
   "cell_type": "code",
   "execution_count": null,
   "metadata": {},
   "outputs": [],
   "source": []
  },
  {
   "cell_type": "code",
   "execution_count": null,
   "metadata": {
    "scrolled": false
   },
   "outputs": [],
   "source": []
  },
  {
   "source": [],
   "cell_type": "code",
   "metadata": {},
   "execution_count": null,
   "outputs": []
  },
  {
   "cell_type": "code",
   "execution_count": null,
   "metadata": {},
   "outputs": [],
   "source": []
  },
  {
   "cell_type": "code",
   "execution_count": null,
   "metadata": {
    "scrolled": false
   },
   "outputs": [],
   "source": []
  },
  {
   "cell_type": "code",
   "execution_count": null,
   "metadata": {
    "scrolled": true
   },
   "outputs": [],
   "source": []
  },
  {
   "cell_type": "markdown",
   "metadata": {},
   "source": []
  },
  {
   "cell_type": "code",
   "execution_count": null,
   "metadata": {},
   "outputs": [],
   "source": []
  },
  {
   "cell_type": "code",
   "execution_count": null,
   "metadata": {
    "scrolled": false
   },
   "outputs": [],
   "source": []
  },
  {
   "cell_type": "code",
   "execution_count": null,
   "metadata": {
    "scrolled": true
   },
   "outputs": [],
   "source": []
  },
  {
   "source": [],
   "cell_type": "code",
   "metadata": {},
   "execution_count": null,
   "outputs": []
  },
  {
   "cell_type": "code",
   "execution_count": null,
   "metadata": {
    "scrolled": true
   },
   "outputs": [],
   "source": []
  },
  {
   "cell_type": "code",
   "execution_count": null,
   "metadata": {},
   "outputs": [],
   "source": []
  },
  {
   "cell_type": "code",
   "execution_count": null,
   "metadata": {},
   "outputs": [],
   "source": []
  }
 ],
 "metadata": {
  "kernelspec": {
   "name": "python392jvsc74a57bd04cd7ab41f5fca4b9b44701077e38c5ffd31fe66a6cab21e0214b68d958d0e462",
   "display_name": "Python 3.9.2 64-bit"
  },
  "language_info": {
   "codemirror_mode": {
    "name": "ipython",
    "version": 3
   },
   "file_extension": ".py",
   "mimetype": "text/x-python",
   "name": "python",
   "nbconvert_exporter": "python",
   "pygments_lexer": "ipython3",
   "version": "3.9.2-final"
  }
 },
 "nbformat": 4,
 "nbformat_minor": 2
}