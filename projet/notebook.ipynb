{
 "cells": [
  {
   "source": [
    "# Analyze data from education systems"
   ],
   "cell_type": "markdown",
   "metadata": {}
  },
  {
   "source": [
    "from math import prod\n",
    "import pandas as pd\n",
    "import numpy as np\n",
    "import matplotlib .pyplot as plt\n",
    "import seaborn as sns\n",
    "\n",
    "%matplotlib inline\n",
    "sns.set()"
   ],
   "cell_type": "code",
   "metadata": {},
   "execution_count": null,
   "outputs": []
  },
  {
   "source": [
    "## Methods cell"
   ],
   "cell_type": "markdown",
   "metadata": {}
  },
  {
   "source": [
    "def df_initial_analysis(df, name_df):\n",
    "    \"\"\"\n",
    "    Initial analysis on the DataFrame.\n",
    "\n",
    "    Args:\n",
    "        df (pandas.DataFrame): DataFrame to analyze.\n",
    "        name_df (str): DataFrame name.\n",
    "\n",
    "    Returns:\n",
    "        None.\n",
    "        Print the initial analysis on the DataFrame. \n",
    "    \"\"\"\n",
    "    if df.empty:\n",
    "        print(\"The\", name_df, \"dataset is empty. Please verify the file.\")\n",
    "    else:\n",
    "        empty_cols = [col for col in df.columns if df[col].isna().all()] # identifying empty columns\n",
    "        df_rows_duplicates = df[df.duplicated()] #identifying full duplicates rows\n",
    "        \n",
    "        # Creating a dataset based on Type object and records by columns\n",
    "        type_cols = df.dtypes.apply(lambda x: x.name).to_dict() \n",
    "        df_resume = pd.DataFrame(list(type_cols.items()), columns = [\"Name\", \"Type\"])\n",
    "        df_resume[\"Records\"] = list(df.count())\n",
    "        \n",
    "        print(\"\\nInitial Analysis of\", name_df, \"dataset\")\n",
    "        print(\"--------------------------------------------------------------------------\")\n",
    "        print(\"- Dataset shape:                 \", df.shape[0], \"rows and\", df.shape[1], \"columns\")\n",
    "        print(\"- Total of NaN values:           \", df.isna().sum().sum())\n",
    "        print(\"- Percentage of NaN:             \", round((df.isna().sum().sum() / prod(df.shape)) * 100, 2), \"%\")\n",
    "        print(\"- Total of full duplicates rows: \", df_rows_duplicates.shape[0])\n",
    "        print(\"- Total of empty columns:        \", len(empty_cols))\n",
    "        print(\" + The empty column is:          \", empty_cols) if len(empty_cols) == 1 \\\n",
    "            else (print(\" + The empty column are:          \", empty_cols) if len(empty_cols) >= 1 else None)\n",
    "        print(\"\\n- Type object and records by columns\")\n",
    "        print(\"--------------------------------------------------------------------------\")\n",
    "        print(df_resume.sort_values(\"Records\", ascending=False))\n",
    "\n",
    "\n",
    "def comparison_dfs(df_original, df_copy):\n",
    "    \"\"\"\n",
    "    Create a DataFrame based on comparación between the original DataFrame and the copy DataFrame.\n",
    "    Args:\n",
    "        df_original (pandas.DataFrame): DataFrame original.\n",
    "        df_copy (pandas.DataFrame): DataFrame copy.\n",
    "    Returns:\n",
    "        df_comparison (pandas.DataFrame): DataFrame comparison.\n",
    "    \"\"\"\n",
    "    df_comparison = pd.DataFrame({\n",
    "        \"Moment\" : [\"Before\", \"After\"],\n",
    "        \"Total values\" : [prod(df_original.shape), prod(df_copy.shape)], \n",
    "        \"Valid values\" : [(prod(df_original.shape)-df_original.isna().sum().sum()), (prod(df_copy.shape)-df_copy.isna().sum().sum())],\n",
    "        \"Missing values\" : [df_original.isna().sum().sum(), df_copy.isna().sum().sum()]\n",
    "    })\n",
    "    return df_comparison\n",
    "\n",
    "\n",
    "def remove_columns_by_percentage_of_nan_values(df):\n",
    "    \"\"\"\n",
    "    Remove columns in DataFrame based on percentage of NaN values in columns.\n",
    "    Args:\n",
    "        df (pandas.DataFrame): DataFrame to work.\n",
    "    Returns:\n",
    "        df (pandas.DataFrame): DataFrame worked.\n",
    "    \"\"\"\n",
    "    percentage = 50 # Removing columns with more than 50% NaN values \n",
    "\n",
    "    for col in df.columns:\n",
    "        if round(((df.shape[0] - df[col].count()) / df.shape[0]) * 100, 2) > percentage:\n",
    "            print(\"- The column\",  df[col].name, \"has been removed.\")\n",
    "            df.drop([col], axis=1, inplace=True)\n",
    "\n",
    "    return df"
   ],
   "cell_type": "code",
   "metadata": {},
   "execution_count": null,
   "outputs": []
  },
  {
   "source": [
    "## Loading data"
   ],
   "cell_type": "markdown",
   "metadata": {}
  },
  {
   "cell_type": "code",
   "execution_count": null,
   "metadata": {},
   "outputs": [],
   "source": [
    "# loading Dataset and removing the empty columns (the empty columns, unnamed, etc.)\n",
    "country = pd.read_csv(\"datasets/EdStatsCountry.csv\")\n",
    "serie = pd.read_csv(\"datasets/EdStatsSeries.csv\")\n",
    "country_serie = pd.read_csv(\"datasets/EdStatsCountry-Series.csv\")\n",
    "foot_note = pd.read_csv(\"datasets/EdStatsFootNote.csv\")\n",
    "data = pd.read_csv(\"datasets/EdStatsData.csv\")"
   ]
  },
  {
   "source": [
    "## Initial data analysis\n",
    "- Knowing the entities of the datasets.<br>\n",
    "\n",
    "    - **Country** dataset **`\"EdStatsCountry.csv\"`**.<br>\n",
    "    Des renseignements en général sur l'économie de chaque pays du monde.\n",
    "    \n",
    "    - **Serie** dataset **`\"EdStatsSeries.csv\"`**.<br>\n",
    "    Des renseignements en peu plus de détails sur les indicateurs économiques.\n",
    "    \n",
    "    - **Country-Serie** dataset **`\"EdStatsCountry-Series.csv\"`**.<br>\n",
    "    La source des données sur l'information relationnelle entre **`\"EdStatsCountry.csv\"`** et **`\"EdStatsSeries.csv\"`**.\n",
    "\n",
    "    - **Foot Note** dataset **`\"EdStatsFootNote.csv\"`**.<br>\n",
    "    L’année d’origine des données et aussi une description sur les indicateurs.\n",
    "\n",
    "    - **Data** dataset **`\"EdStatsData.csv\"`**.<br>\n",
    "    Le dataset principal qui contient en détails le renseignement sur les indicateurs par an.\n",
    "\n",
    "- Entity relationship diagram.<br>\n",
    "<br>Il existe une relation **\"virtuel\"** entre les datasets via les colonnes **`\"Country Code\"`** et **`\"Series Code\"`** principalement.<br>\n",
    "_**Il faut rester prudent avec ces relations**_.<br>\n",
    "![Entity relationship diagram](img/entity_relationship.png)"
   ],
   "cell_type": "markdown",
   "metadata": {}
  },
  {
   "source": [
    "### **`\"Country\"`** dataset"
   ],
   "cell_type": "markdown",
   "metadata": {}
  },
  {
   "cell_type": "code",
   "execution_count": null,
   "metadata": {},
   "outputs": [],
   "source": [
    "country.head(3)"
   ]
  },
  {
   "cell_type": "code",
   "execution_count": null,
   "metadata": {},
   "outputs": [],
   "source": [
    "# Describing the numeric columns\n",
    "country.describe()"
   ]
  },
  {
   "cell_type": "code",
   "execution_count": null,
   "metadata": {
    "tags": []
   },
   "outputs": [],
   "source": [
    "# Resume of dataset\n",
    "df_initial_analysis(country, \"country\")"
   ]
  },
  {
   "cell_type": "code",
   "execution_count": null,
   "metadata": {},
   "outputs": [],
   "source": [
    "# Drawing missing values in Country dataset\n",
    "labels = [\"records\", \"missing values\"]\n",
    "vals = [prod(country.shape)-country.isna().sum().sum(), country.isna().sum().sum()]\n",
    "explode = (0, 0.01)\n",
    "\n",
    "pie, ax = plt.subplots(figsize=[10,6])\n",
    "plt.axis(\"equal\")\n",
    "plt.pie(x=vals, labels=labels, explode=explode,  autopct=\"%.1f%%\", pctdistance=0.5)\n",
    "plt.title(\"Missing values in Country dataset\", fontsize=14)\n",
    "plt.show()"
   ]
  },
  {
   "source": [
    "### **`\"Serie\"`** dataset"
   ],
   "cell_type": "markdown",
   "metadata": {}
  },
  {
   "cell_type": "code",
   "execution_count": null,
   "metadata": {},
   "outputs": [],
   "source": [
    "serie.head(3)"
   ]
  },
  {
   "cell_type": "code",
   "execution_count": null,
   "metadata": {},
   "outputs": [],
   "source": [
    "# Describing the numeric columns\n",
    "serie.describe()"
   ]
  },
  {
   "cell_type": "code",
   "execution_count": null,
   "metadata": {},
   "outputs": [],
   "source": [
    "# Resume of dataset\n",
    "df_initial_analysis(serie, \"serie\")"
   ]
  },
  {
   "cell_type": "code",
   "execution_count": null,
   "metadata": {},
   "outputs": [],
   "source": [
    "# Drawing missing values in Serie dataset\n",
    "labels = [\"records\", \"missing values\"]\n",
    "vals = [prod(serie.shape)-serie.isna().sum().sum(), serie.isna().sum().sum()]\n",
    "explode = (0, 0.01)\n",
    "\n",
    "pie, ax = plt.subplots(figsize=[10,6])\n",
    "plt.axis(\"equal\")\n",
    "plt.pie(x=vals, labels=labels, explode=explode,  autopct=\"%.1f%%\", pctdistance=0.5)\n",
    "plt.title(\"Missing values in Serie dataset\", fontsize=14)\n",
    "plt.show()"
   ]
  },
  {
   "source": [
    "### **`\"Country-Serie\"`** dataset"
   ],
   "cell_type": "markdown",
   "metadata": {}
  },
  {
   "cell_type": "code",
   "execution_count": null,
   "metadata": {},
   "outputs": [],
   "source": [
    "country_serie.head(3)"
   ]
  },
  {
   "cell_type": "code",
   "execution_count": null,
   "metadata": {},
   "outputs": [],
   "source": [
    "# Resume of dataset\n",
    "df_initial_analysis(country_serie, \"country_serie\")"
   ]
  },
  {
   "cell_type": "code",
   "execution_count": null,
   "metadata": {},
   "outputs": [],
   "source": [
    "# Drawing missing values in Country-Serie dataset\n",
    "labels = [\"records\", \"missing values\"]\n",
    "vals = [prod(country_serie.shape)-country_serie.isna().sum().sum(), country_serie.isna().sum().sum()]\n",
    "explode = (0, 0.01)\n",
    "\n",
    "pie, ax = plt.subplots(figsize=[10,6])\n",
    "plt.axis(\"equal\")\n",
    "plt.pie(x=vals, labels=labels, explode=explode,  autopct=\"%.1f%%\", pctdistance=0.5)\n",
    "plt.title(\"Missing values in Country-Serie dataset\", fontsize=14)\n",
    "plt.show()"
   ]
  },
  {
   "source": [
    "### **`\"Foot Note\"`** dataset"
   ],
   "cell_type": "markdown",
   "metadata": {}
  },
  {
   "cell_type": "code",
   "execution_count": null,
   "metadata": {},
   "outputs": [],
   "source": [
    "foot_note.head(3)"
   ]
  },
  {
   "cell_type": "code",
   "execution_count": null,
   "metadata": {},
   "outputs": [],
   "source": [
    "# Describing the numeric columns\n",
    "foot_note.describe()"
   ]
  },
  {
   "cell_type": "code",
   "execution_count": null,
   "metadata": {},
   "outputs": [],
   "source": [
    "# Resume of dataset\n",
    "df_initial_analysis(foot_note, \"foot_note\")"
   ]
  },
  {
   "cell_type": "code",
   "execution_count": null,
   "metadata": {},
   "outputs": [],
   "source": [
    "# Drawing missing values in Foot Note dataset\n",
    "labels = [\"records\", \"missing values\"]\n",
    "vals = [prod(foot_note.shape)-foot_note.isna().sum().sum(), foot_note.isna().sum().sum()]\n",
    "explode = (0, 0.01)\n",
    "\n",
    "pie, ax = plt.subplots(figsize=[10,6])\n",
    "plt.axis(\"equal\")\n",
    "plt.pie(x=vals, labels=labels, explode=explode,  autopct=\"%.1f%%\", pctdistance=0.5)\n",
    "plt.title(\"Missing values in Foot-Note dataset\", fontsize=14)\n",
    "plt.show()"
   ]
  },
  {
   "source": [
    "### **`\"Data\"`** dataset"
   ],
   "cell_type": "markdown",
   "metadata": {}
  },
  {
   "cell_type": "code",
   "execution_count": null,
   "metadata": {},
   "outputs": [],
   "source": [
    "data.head(3)"
   ]
  },
  {
   "cell_type": "code",
   "execution_count": null,
   "metadata": {},
   "outputs": [],
   "source": [
    "# Describing the numeric columns\n",
    "data.describe()"
   ]
  },
  {
   "cell_type": "code",
   "execution_count": null,
   "metadata": {},
   "outputs": [],
   "source": [
    "# Resume of dataset\n",
    "df_initial_analysis(data, \"data\")"
   ]
  },
  {
   "cell_type": "code",
   "execution_count": null,
   "metadata": {},
   "outputs": [],
   "source": [
    "# Drawing missing values in Data dataset\n",
    "labels = [\"records\", \"missing values\"]\n",
    "vals = [prod(data.shape)-data.isna().sum().sum(), data.isna().sum().sum()]\n",
    "explode = (0, 0.01)\n",
    "\n",
    "pie, ax = plt.subplots(figsize=[10,6])\n",
    "plt.axis(\"equal\")\n",
    "plt.pie(x=vals, labels=labels, explode=explode,  autopct=\"%.1f%%\", pctdistance=0.5)\n",
    "plt.title(\"Missing values in Data dataset\", fontsize=14)\n",
    "plt.show()"
   ]
  },
  {
   "source": [
    "## Data cleanup\n",
    "- Creating copies from all datasets.\n",
    "- Deleting empty columns and empty rows.\n",
    "- Filtring **all datasets** based on list of **`\"countries\"`** as given in **`\"ISO 3166-1\"`** .<br> \n",
    "    - **`\"EdStatsCountry\"`** is going to be the pivot to filter the others datasets.<br>\n",
    "        - To **`\"EdStatsSeries\"`** the pivots are going to be **`\"EdStatsCountry\"`** and **`\"EdStatsData\"`**.<br>\n",
    "    - List of **`\"countries\"`** as given in **`\"ISO 3166-1\"`** and the corresponding **`\"ISO 3166-1-alpha-2\"`** code elements.<br>https://datahub.io/core/country-list#resource-data "
   ],
   "cell_type": "markdown",
   "metadata": {}
  },
  {
   "source": [
    "### Loading data and removing empty columns and empty rows"
   ],
   "cell_type": "markdown",
   "metadata": {}
  },
  {
   "cell_type": "code",
   "execution_count": null,
   "metadata": {},
   "outputs": [],
   "source": [
    "country_copy = country.dropna(axis=\"columns\", how=\"all\").dropna(axis=\"rows\", how=\"all\")\n",
    "serie_copy = serie.dropna(axis=\"columns\", how=\"all\").dropna(axis=\"rows\", how=\"all\")\n",
    "country_serie_copy = country_serie.dropna(axis=\"columns\", how=\"all\").dropna(axis=\"rows\", how=\"all\")\n",
    "foot_note_copy = foot_note.dropna(axis=\"columns\", how=\"all\").dropna(axis=\"rows\", how=\"all\")\n",
    "data_copy = data.dropna(axis=\"columns\", how=\"all\").dropna(axis=\"rows\", how=\"all\")"
   ]
  },
  {
   "source": [
    "### Comparing datasets before and after removing empty columns/rows"
   ],
   "cell_type": "markdown",
   "metadata": {}
  },
  {
   "cell_type": "code",
   "execution_count": null,
   "metadata": {},
   "outputs": [],
   "source": [
    "# Comparing missing values in all datasets before and after removing empty columns/rows\n",
    "fig, ((ax1, ax2), (ax3, ax4), (ax5, ax6), (ax7, ax8), (ax9, ax10)) = plt.subplots(nrows=5, ncols=2, figsize=[10,20])\n",
    "labels = [\"records\", \"missing values\"]\n",
    "explode = (0, 0.01)\n",
    "\n",
    "vals_ax1 = [prod(country.shape)-country.isna().sum().sum(), country.isna().sum().sum()]\n",
    "ax1.pie(x=vals_ax1, labels=labels, autopct=\"%.1f%%\", pctdistance=0.5)\n",
    "ax1.set_title(\"Country dataset\", fontsize=14)\n",
    "\n",
    "vals_ax2 = [prod(country_copy.shape)-country_copy.isna().sum().sum(), country_copy.isna().sum().sum()]\n",
    "ax2.pie(x=vals_ax2, labels=labels, autopct=\"%.1f%%\", pctdistance=0.5)\n",
    "ax2.set_title(\"Country dataset after removing empty columns/rows\", fontsize=14)\n",
    "\n",
    "vals_ax3 = [prod(serie.shape)-serie.isna().sum().sum(), serie.isna().sum().sum()]\n",
    "ax3.pie(x=vals_ax3, labels=labels, autopct=\"%.1f%%\", pctdistance=0.5)\n",
    "ax3.set_title(\"Serie dataset\", fontsize=14)\n",
    "\n",
    "vals_ax4 = [prod(serie_copy.shape)-serie_copy.isna().sum().sum(), serie_copy.isna().sum().sum()]\n",
    "ax4.pie(x=vals_ax4, labels=labels, autopct=\"%.1f%%\", pctdistance=0.5)\n",
    "ax4.set_title(\"Serie dataset after removing empty columns/rows\", fontsize=14)\n",
    "\n",
    "vals_ax5 = [prod(country_serie.shape)-country_serie.isna().sum().sum(), country_serie.isna().sum().sum()]\n",
    "ax5.pie(x=vals_ax5, labels=labels, autopct=\"%.1f%%\", pctdistance=0.5)\n",
    "ax5.set_title(\"Country-Serie dataset\", fontsize=14)\n",
    "\n",
    "vals_ax6 = [prod(country_serie_copy.shape)-country_serie_copy.isna().sum().sum(), country_serie_copy.isna().sum().sum()]\n",
    "ax6.pie(x=vals_ax6, labels=labels, autopct=\"%.1f%%\", pctdistance=0.5)\n",
    "ax6.set_title(\"Country-Serie dataset after removing empty columns/rows\", fontsize=14)\n",
    "\n",
    "vals_ax7 = [prod(foot_note.shape)-foot_note.isna().sum().sum(), foot_note.isna().sum().sum()]\n",
    "ax7.pie(x=vals_ax7, labels=labels, autopct=\"%.1f%%\", pctdistance=0.5)\n",
    "ax7.set_title(\"Foot Note dataset\", fontsize=14)\n",
    "\n",
    "vals_ax8 = [prod(foot_note_copy.shape)-foot_note_copy.isna().sum().sum(), foot_note_copy.isna().sum().sum()]\n",
    "ax8.pie(x=vals_ax8, labels=labels, autopct=\"%.1f%%\", pctdistance=0.5)\n",
    "ax8.set_title(\"Foot Note dataset after removing empty columns/rows\", fontsize=14)\n",
    "\n",
    "vals_ax9 = [prod(data.shape)-data.isna().sum().sum(), data.isna().sum().sum()]\n",
    "ax9.pie(x=vals_ax9, labels=labels, autopct=\"%.1f%%\", pctdistance=0.5)\n",
    "ax9.set_title(\"Data dataset\", fontsize=14)\n",
    "\n",
    "vals_ax10 = [prod(data_copy.shape)-data_copy.isna().sum().sum(), data_copy.isna().sum().sum()]\n",
    "ax10.pie(x=vals_ax10, labels=labels, autopct=\"%.1f%%\", pctdistance=0.5)\n",
    "ax10.set_title(\"Data dataset after removing empty columns/rows\", fontsize=14)\n",
    "\n",
    "plt.tight_layout()\n",
    "plt.show()"
   ]
  },
  {
   "source": [
    "### Comparing **`\"Country\"`** dataset before and after removing empty columns/rows"
   ],
   "cell_type": "markdown",
   "metadata": {}
  },
  {
   "cell_type": "code",
   "execution_count": null,
   "metadata": {},
   "outputs": [],
   "source": [
    "df_comparison = comparison_dfs(country, country_copy)\n",
    "fig, ax1 = plt.subplots(figsize=(10, 10))\n",
    "dt = df_comparison.melt(id_vars=\"Moment\").rename(columns=str.title)\n",
    "plot = sns.barplot(x=\"Moment\", y=\"Value\", data=dt, hue=\"Variable\", ax=ax1)\n",
    "for p in plot.patches:\n",
    "    plot.annotate(format(p.get_height(), \".1f\"), (p.get_x() + p.get_width() / 2., p.get_height()), \n",
    "                    ha=\"center\", va=\"center\", xytext=(0, 9), textcoords=\"offset points\")\n",
    "plt.xlabel(\"Comparison moments\", size=12)\n",
    "plt.ylabel(\"Number of records\", size=12)\n",
    "plt.title(\"Country dataset before and after removing empty columns/rows\", size=14)\n",
    "sns.despine(fig)"
   ]
  },
  {
   "source": [
    "### Comparing **`\"Serie\"`** dataset before and after removing empty columns/rows"
   ],
   "cell_type": "markdown",
   "metadata": {}
  },
  {
   "cell_type": "code",
   "execution_count": null,
   "metadata": {},
   "outputs": [],
   "source": [
    "df_comparison = comparison_dfs(serie, serie_copy)\n",
    "fig, ax1 = plt.subplots(figsize=(10, 10))\n",
    "dt = df_comparison.melt(id_vars=\"Moment\").rename(columns=str.title)\n",
    "plot = sns.barplot(x=\"Moment\", y=\"Value\", data=dt, hue=\"Variable\", ax=ax1)\n",
    "for p in plot.patches:\n",
    "    plot.annotate(format(p.get_height(), \".1f\"), (p.get_x() + p.get_width() / 2., p.get_height()), \n",
    "                    ha=\"center\", va=\"center\", xytext=(0, 9), textcoords=\"offset points\")\n",
    "plt.xlabel(\"Comparison moments\", size=12)\n",
    "plt.ylabel(\"Number of records\", size=12)\n",
    "plt.title(\"Serie dataset before and after removing empty columns/rows\", size=14)\n",
    "sns.despine(fig)"
   ]
  },
  {
   "source": [
    "### Comparing **`\"Country-Serie\"`** dataset before and after removing empty columns/rows"
   ],
   "cell_type": "markdown",
   "metadata": {}
  },
  {
   "cell_type": "code",
   "execution_count": null,
   "metadata": {},
   "outputs": [],
   "source": [
    "df_comparison = comparison_dfs(country_serie, country_serie_copy)\n",
    "fig, ax1 = plt.subplots(figsize=(10, 10))\n",
    "dt = df_comparison.melt(id_vars=\"Moment\").rename(columns=str.title)\n",
    "plot = sns.barplot(x=\"Moment\", y=\"Value\", data=dt, hue=\"Variable\", ax=ax1)\n",
    "for p in plot.patches:\n",
    "    plot.annotate(format(p.get_height(), \".1f\"), (p.get_x() + p.get_width() / 2., p.get_height()), \n",
    "                    ha=\"center\", va=\"center\", xytext=(0, 9), textcoords=\"offset points\")\n",
    "plt.xlabel(\"Comparison moments\", size=12)\n",
    "plt.ylabel(\"Number of records\", size=12)\n",
    "plt.title(\"Country-Serie dataset before and after removing empty columns/rows\", size=14)\n",
    "sns.despine(fig)"
   ]
  },
  {
   "source": [
    "### Comparing **`\"FootNote\"`** dataset before and after removing empty columns/rows"
   ],
   "cell_type": "markdown",
   "metadata": {}
  },
  {
   "cell_type": "code",
   "execution_count": null,
   "metadata": {},
   "outputs": [],
   "source": [
    "df_comparison = comparison_dfs(foot_note, foot_note_copy)\n",
    "fig, ax1 = plt.subplots(figsize=(10, 10))\n",
    "dt = df_comparison.melt(id_vars=\"Moment\").rename(columns=str.title)\n",
    "plot = sns.barplot(x=\"Moment\", y=\"Value\", data=dt, hue=\"Variable\", ax=ax1)\n",
    "for p in plot.patches:\n",
    "    plot.annotate(format(p.get_height(), \".1f\"), (p.get_x() + p.get_width() / 2., p.get_height()), \n",
    "                    ha=\"center\", va=\"center\", xytext=(0, 9), textcoords=\"offset points\")\n",
    "plt.xlabel(\"Comparison moments\", size=12)\n",
    "plt.ylabel(\"Number of records\", size=12)\n",
    "plt.title(\"Foot Note dataset before and after removing empty columns/rows\", size=14)\n",
    "sns.despine(fig)"
   ]
  },
  {
   "source": [
    "### Comparing **`\"Data\"`** dataset before and after removing empty columns/rows"
   ],
   "cell_type": "markdown",
   "metadata": {}
  },
  {
   "cell_type": "code",
   "execution_count": null,
   "metadata": {},
   "outputs": [],
   "source": [
    "df_comparison = comparison_dfs(data, data_copy)\n",
    "fig, ax1 = plt.subplots(figsize=(10, 10))\n",
    "dt = df_comparison.melt(id_vars=\"Moment\").rename(columns=str.title)\n",
    "plot = sns.barplot(x=\"Moment\", y=\"Value\", data=dt, hue=\"Variable\", ax=ax1)\n",
    "for p in plot.patches:\n",
    "    plot.annotate(format(p.get_height(), \".1f\"), (p.get_x() + p.get_width() / 2., p.get_height()), \n",
    "                    ha=\"center\", va=\"center\", xytext=(0, 9), textcoords=\"offset points\")\n",
    "plt.xlabel(\"Comparison moments\", size=12)\n",
    "plt.ylabel(\"Number of records\", size=12)\n",
    "plt.title(\"Data dataset before and after removing empty columns/rows\", size=14)\n",
    "sns.despine(fig)"
   ]
  },
  {
   "source": [
    "### Cleaning **`\"Country\"`** dataset"
   ],
   "cell_type": "markdown",
   "metadata": {}
  },
  {
   "cell_type": "code",
   "execution_count": null,
   "metadata": {},
   "outputs": [],
   "source": [
    "# List of countries as given in ISO 3166-1 and the corresponding ISO 3166-1-alpha-2 code elements.  \n",
    "countries_iso = pd.read_csv(\"datasets/countries_ISO.csv\", sep=\",\", \n",
    "                            keep_default_na=False, encoding=\"utf-8\") # Avoiding that \"NA\" will be interpreted as NaN by Pandas"
   ]
  },
  {
   "cell_type": "code",
   "execution_count": null,
   "metadata": {},
   "outputs": [],
   "source": [
    "# Rows to remove based on list of countries as given in ISO 3166-1\n",
    "df_print = country_copy[~country_copy[\"2-alpha code\"].isin(countries_iso[\"Code\"])]\n",
    "df_print"
   ]
  },
  {
   "cell_type": "code",
   "execution_count": null,
   "metadata": {},
   "outputs": [],
   "source": [
    "# Filter \"EdStatsCountry.csv\" based on the list of countries as given in ISO 3166-1\n",
    "country_copy = country_copy[country_copy[\"2-alpha code\"].isin(countries_iso[\"Code\"])]"
   ]
  },
  {
   "cell_type": "code",
   "execution_count": null,
   "metadata": {},
   "outputs": [],
   "source": [
    "# Comparing missing values in Country dataset before and after removing empty columns/rows\n",
    "fig, (ax1, ax2) = plt.subplots(nrows=1, ncols=2, figsize=[10,20])\n",
    "labels = [\"records\", \"missing values\"]\n",
    "explode = (0, 0.01)\n",
    "\n",
    "vals_ax1 = [prod(country.shape)-country.isna().sum().sum(), country.isna().sum().sum()]\n",
    "ax1.pie(x=vals_ax1, labels=labels, autopct=\"%.1f%%\", pctdistance=0.5)\n",
    "ax1.set_title(\"Country dataset\", fontsize=14)\n",
    "\n",
    "vals_ax2 = [prod(country_copy.shape)-country_copy.isna().sum().sum(), country_copy.isna().sum().sum()]\n",
    "ax2.pie(x=vals_ax2, labels=labels, autopct=\"%.1f%%\", pctdistance=0.5)\n",
    "ax2.set_title(\"Country dataset after the list of countries ISO 3166-1\", fontsize=14)\n",
    "\n",
    "plt.tight_layout()\n",
    "plt.show()"
   ]
  },
  {
   "cell_type": "code",
   "execution_count": null,
   "metadata": {},
   "outputs": [],
   "source": [
    "df_comparison = comparison_dfs(country, country_copy)\n",
    "fig, ax1 = plt.subplots(figsize=(10, 10))\n",
    "dt = df_comparison.melt(id_vars=\"Moment\").rename(columns=str.title)\n",
    "plot = sns.barplot(x=\"Moment\", y=\"Value\", data=dt, hue=\"Variable\", ax=ax1)\n",
    "for p in plot.patches:\n",
    "    plot.annotate(format(p.get_height(), \".1f\"), (p.get_x() + p.get_width() / 2., p.get_height()), \n",
    "                    ha=\"center\", va=\"center\", xytext=(0, 9), textcoords=\"offset points\")\n",
    "plt.xlabel(\"Comparison moments\", size=12)\n",
    "plt.ylabel(\"Number of records\", size=12)\n",
    "plt.title(\"Country dataset after the list of countries ISO 3166-1\", size=14)\n",
    "sns.despine(fig)"
   ]
  },
  {
   "source": [
    "df_initial_analysis(country_copy, \"country copy\")"
   ],
   "cell_type": "code",
   "metadata": {},
   "execution_count": null,
   "outputs": []
  },
  {
   "cell_type": "code",
   "execution_count": null,
   "metadata": {},
   "outputs": [],
   "source": [
    "country_copy.head(n=5)"
   ]
  },
  {
   "source": [
    "### Cleaning **`\"FootNote\"`** dataset"
   ],
   "cell_type": "markdown",
   "metadata": {}
  },
  {
   "cell_type": "code",
   "execution_count": null,
   "metadata": {
    "scrolled": false
   },
   "outputs": [],
   "source": [
    "# Rows to remove based on list of countries as given in ISO 3166-1\n",
    "df_print = foot_note_copy[~foot_note_copy[\"CountryCode\"].isin(country_copy[\"Country Code\"])]\n",
    "df_print"
   ]
  },
  {
   "cell_type": "code",
   "execution_count": null,
   "metadata": {},
   "outputs": [],
   "source": [
    "# Filter \"foot_note_copy\" based on the list of \"country_copy\"\n",
    "foot_note_copy = foot_note_copy[foot_note_copy[\"CountryCode\"].isin(country_copy[\"Country Code\"])]"
   ]
  },
  {
   "cell_type": "code",
   "execution_count": null,
   "metadata": {},
   "outputs": [],
   "source": [
    "# Comparing missing values in Foot Note dataset before and after removing empty columns/rows\n",
    "fig, (ax1, ax2) = plt.subplots(nrows=1, ncols=2, figsize=[10,20])\n",
    "labels = [\"records\", \"missing values\"]\n",
    "explode = (0, 0.01)\n",
    "\n",
    "vals_ax1 = [prod(foot_note.shape)-foot_note.isna().sum().sum(), foot_note.isna().sum().sum()]\n",
    "ax1.pie(x=vals_ax1, labels=labels, autopct=\"%.1f%%\", pctdistance=0.5)\n",
    "ax1.set_title(\"Foot Note dataset\", fontsize=14)\n",
    "\n",
    "vals_ax2 = [prod(foot_note_copy.shape)-foot_note_copy.isna().sum().sum(), foot_note_copy.isna().sum().sum()]\n",
    "ax2.pie(x=vals_ax2, labels=labels, autopct=\"%.1f%%\", pctdistance=0.5)\n",
    "ax2.set_title(\"Foto Note dataset after the list of countries ISO 3166-1\", fontsize=14)\n",
    "\n",
    "plt.tight_layout()\n",
    "plt.show()"
   ]
  },
  {
   "cell_type": "code",
   "execution_count": null,
   "metadata": {},
   "outputs": [],
   "source": [
    "df_comparison = comparison_dfs(foot_note, foot_note_copy)\n",
    "fig, ax1 = plt.subplots(figsize=(10, 10))\n",
    "dt = df_comparison.melt(id_vars=\"Moment\").rename(columns=str.title)\n",
    "plot = sns.barplot(x=\"Moment\", y=\"Value\", data=dt, hue=\"Variable\", ax=ax1)\n",
    "for p in plot.patches:\n",
    "    plot.annotate(format(p.get_height(), \".1f\"), (p.get_x() + p.get_width() / 2., p.get_height()), \n",
    "                    ha=\"center\", va=\"center\", xytext=(0, 9), textcoords=\"offset points\")\n",
    "plt.xlabel(\"Comparison moments\", size=12)\n",
    "plt.ylabel(\"Number of records\", size=12)\n",
    "plt.title(\"Foot Note dataset after the list of countries ISO 3166-1\", size=14)\n",
    "sns.despine(fig)"
   ]
  },
  {
   "cell_type": "code",
   "execution_count": null,
   "metadata": {},
   "outputs": [],
   "source": [
    "df_initial_analysis(foot_note_copy, \"foot note copy\")"
   ]
  },
  {
   "cell_type": "code",
   "execution_count": null,
   "metadata": {},
   "outputs": [],
   "source": [
    "foot_note_copy.head(n=5)\n"
   ]
  },
  {
   "source": [
    "# Formatting columns year to work with it\n",
    "foot_note_copy[\"Year\"] = foot_note_copy[\"Year\"].str.replace(\"YR\", \"\")\n",
    "foot_note_copy[\"Year\"] = foot_note_copy[\"Year\"].str.replace(\"yr\", \"\")\n",
    "\n"
   ],
   "cell_type": "code",
   "metadata": {},
   "execution_count": null,
   "outputs": []
  },
  {
   "cell_type": "code",
   "execution_count": null,
   "metadata": {},
   "outputs": [],
   "source": [
    "foot_note_copy.head(n=5)"
   ]
  },
  {
   "source": [
    "### Cleaning **`\"Country-Series\"`** dataset"
   ],
   "cell_type": "markdown",
   "metadata": {}
  },
  {
   "cell_type": "code",
   "execution_count": null,
   "metadata": {},
   "outputs": [],
   "source": [
    "# Rows to remove based on list of countries as given in ISO 3166-1\n",
    "df_print = country_serie_copy[~country_serie_copy[\"CountryCode\"].isin(country_copy[\"Country Code\"])]\n",
    "df_print"
   ]
  },
  {
   "cell_type": "code",
   "execution_count": null,
   "metadata": {
    "scrolled": false
   },
   "outputs": [],
   "source": [
    "# Filter \"country_serie_copy\" based on the list of \"country_copy\"\n",
    "country_serie_copy = country_serie_copy[country_serie_copy[\"CountryCode\"].isin(country_copy[\"Country Code\"])]"
   ]
  },
  {
   "cell_type": "code",
   "execution_count": null,
   "metadata": {},
   "outputs": [],
   "source": [
    "# Comparing missing values in Country-Series dataset before and after removing empty columns/rows\n",
    "fig, (ax1, ax2) = plt.subplots(nrows=1, ncols=2, figsize=[10,20])\n",
    "labels = [\"records\", \"missing values\"]\n",
    "explode = (0, 0.01)\n",
    "\n",
    "vals_ax1 = [prod(country_serie.shape)-country_serie.isna().sum().sum(), country_serie.isna().sum().sum()]\n",
    "ax1.pie(x=vals_ax1, labels=labels, autopct=\"%.1f%%\", pctdistance=0.5)\n",
    "ax1.set_title(\"Country-Series dataset\", fontsize=14)\n",
    "\n",
    "vals_ax2 = [prod(country_serie_copy.shape)-country_serie_copy.isna().sum().sum(), country_serie_copy.isna().sum().sum()]\n",
    "ax2.pie(x=vals_ax2, labels=labels, autopct=\"%.1f%%\", pctdistance=0.5)\n",
    "ax2.set_title(\"Country-Series dataset after the list of countries ISO 3166-1\", fontsize=14)\n",
    "\n",
    "plt.tight_layout()\n",
    "plt.show()"
   ]
  },
  {
   "cell_type": "code",
   "execution_count": null,
   "metadata": {},
   "outputs": [],
   "source": [
    "df_comparison = comparison_dfs(country_serie, country_serie_copy)\n",
    "fig, ax1 = plt.subplots(figsize=(10, 10))\n",
    "dt = df_comparison.melt(id_vars=\"Moment\").rename(columns=str.title)\n",
    "plot = sns.barplot(x=\"Moment\", y=\"Value\", data=dt, hue=\"Variable\", ax=ax1)\n",
    "for p in plot.patches:\n",
    "    plot.annotate(format(p.get_height(), \".1f\"), (p.get_x() + p.get_width() / 2., p.get_height()), \n",
    "                    ha=\"center\", va=\"center\", xytext=(0, 9), textcoords=\"offset points\")\n",
    "plt.xlabel(\"Comparison moments\", size=12)\n",
    "plt.ylabel(\"Number of records\", size=12)\n",
    "plt.title(\"Country-Series dataset after the list of countries ISO 3166-1\", size=14)\n",
    "sns.despine(fig)"
   ]
  },
  {
   "source": [
    "df_initial_analysis(country_serie_copy, \"country-series copy\")"
   ],
   "cell_type": "code",
   "metadata": {},
   "execution_count": null,
   "outputs": []
  },
  {
   "source": [
    "### Cleaning **`\"Data\"`** dataset"
   ],
   "cell_type": "markdown",
   "metadata": {}
  },
  {
   "cell_type": "code",
   "execution_count": null,
   "metadata": {
    "scrolled": false
   },
   "outputs": [],
   "source": [
    "# Rows to remove based on list of countries as given in ISO 3166-1\n",
    "df_print = data_copy[~data_copy[\"Country Code\"].isin(country_copy[\"Country Code\"])]\n",
    "df_print"
   ]
  },
  {
   "source": [
    "# Filter \"country_serie_copy\" based on the list of \"country_copy\"\n",
    "data_copy = data_copy[data_copy[\"Country Code\"].isin(country_copy[\"Country Code\"])]"
   ],
   "cell_type": "code",
   "metadata": {},
   "execution_count": null,
   "outputs": []
  },
  {
   "cell_type": "code",
   "execution_count": null,
   "metadata": {},
   "outputs": [],
   "source": [
    "# Comparing missing values in Data dataset before and after removing empty columns/rows\n",
    "fig, (ax1, ax2) = plt.subplots(nrows=1, ncols=2, figsize=[10,20])\n",
    "labels = [\"records\", \"missing values\"]\n",
    "explode = (0, 0.01)\n",
    "\n",
    "vals_ax1 = [prod(data.shape)-data.isna().sum().sum(), data.isna().sum().sum()]\n",
    "ax1.pie(x=vals_ax1, labels=labels, autopct=\"%.1f%%\", pctdistance=0.5)\n",
    "ax1.set_title(\"Country-Series dataset\", fontsize=14)\n",
    "\n",
    "vals_ax2 = [prod(data_copy.shape)-data_copy.isna().sum().sum(), data_copy.isna().sum().sum()]\n",
    "ax2.pie(x=vals_ax2, labels=labels, autopct=\"%.1f%%\", pctdistance=0.5)\n",
    "ax2.set_title(\"Data dataset after the list of countries ISO 3166-1\", fontsize=14)\n",
    "\n",
    "plt.tight_layout()\n",
    "plt.show()"
   ]
  },
  {
   "cell_type": "code",
   "execution_count": null,
   "metadata": {
    "scrolled": false
   },
   "outputs": [],
   "source": [
    "df_comparison = comparison_dfs(data, data_copy)\n",
    "fig, ax1 = plt.subplots(figsize=(10, 10))\n",
    "dt = df_comparison.melt(id_vars=\"Moment\").rename(columns=str.title)\n",
    "plot = sns.barplot(x=\"Moment\", y=\"Value\", data=dt, hue=\"Variable\", ax=ax1)\n",
    "for p in plot.patches:\n",
    "    plot.annotate(format(p.get_height(), \".1f\"), (p.get_x() + p.get_width() / 2., p.get_height()), \n",
    "                    ha=\"center\", va=\"center\", xytext=(0, 9), textcoords=\"offset points\")\n",
    "plt.xlabel(\"Comparison moments\", size=12)\n",
    "plt.ylabel(\"Number of records\", size=12)\n",
    "plt.title(\"Data dataset after the list of countries ISO 3166-1\", size=14)\n",
    "sns.despine(fig)"
   ]
  },
  {
   "cell_type": "code",
   "execution_count": null,
   "metadata": {
    "scrolled": true
   },
   "outputs": [],
   "source": [
    "df_initial_analysis(data_copy, \"data copy\")"
   ]
  },
  {
   "source": [
    "### Cleaning **`\"Series\"`** dataset"
   ],
   "cell_type": "markdown",
   "metadata": {}
  },
  {
   "cell_type": "code",
   "execution_count": null,
   "metadata": {},
   "outputs": [],
   "source": [
    "# Rows to remove based on list of countries as given in ISO 3166-1 and Data dataset as well. \n",
    "# In this case base on series filtered by list of countries\n",
    "df_print = serie_copy[~serie_copy[\"Series Code\"].isin(data_copy[\"Indicator Code\"])]\n",
    "df_print"
   ]
  },
  {
   "cell_type": "code",
   "execution_count": null,
   "metadata": {},
   "outputs": [],
   "source": [
    "# Filter \"serie_copy\" based on the list of \"country_copy\"\n",
    "# In this case base on series filtered by list of countries\n",
    "serie_copy = serie_copy[serie_copy[\"Series Code\"].isin(data_copy[\"Indicator Code\"])]"
   ]
  },
  {
   "cell_type": "code",
   "execution_count": null,
   "metadata": {
    "scrolled": false
   },
   "outputs": [],
   "source": [
    "# Comparing missing values in Series dataset before and after removing empty columns/rows\n",
    "fig, (ax1, ax2) = plt.subplots(nrows=1, ncols=2, figsize=[10,20])\n",
    "labels = [\"records\", \"missing values\"]\n",
    "explode = (0, 0.01)\n",
    "\n",
    "vals_ax1 = [prod(serie.shape)-serie.isna().sum().sum(), serie.isna().sum().sum()]\n",
    "ax1.pie(x=vals_ax1, labels=labels, autopct=\"%.1f%%\", pctdistance=0.5)\n",
    "ax1.set_title(\"Country-Series dataset\", fontsize=14)\n",
    "\n",
    "vals_ax2 = [prod(serie_copy.shape)-serie_copy.isna().sum().sum(), serie_copy.isna().sum().sum()]\n",
    "ax2.pie(x=vals_ax2, labels=labels, autopct=\"%.1f%%\", pctdistance=0.5)\n",
    "ax2.set_title(\"Country-Series dataset after the list of countries ISO 3166-1\", fontsize=14)\n",
    "\n",
    "plt.tight_layout()\n",
    "plt.show()\n"
   ]
  },
  {
   "cell_type": "code",
   "execution_count": null,
   "metadata": {
    "scrolled": true
   },
   "outputs": [],
   "source": [
    "df_comparison = comparison_dfs(serie, serie_copy)\n",
    "fig, ax1 = plt.subplots(figsize=(10, 10))\n",
    "dt = df_comparison.melt(id_vars=\"Moment\").rename(columns=str.title)\n",
    "plot = sns.barplot(x=\"Moment\", y=\"Value\", data=dt, hue=\"Variable\", ax=ax1)\n",
    "for p in plot.patches:\n",
    "    plot.annotate(format(p.get_height(), \".1f\"), (p.get_x() + p.get_width() / 2., p.get_height()), \n",
    "                    ha=\"center\", va=\"center\", xytext=(0, 9), textcoords=\"offset points\")\n",
    "plt.xlabel(\"Comparison moments\", size=12)\n",
    "plt.ylabel(\"Number of records\", size=12)\n",
    "plt.title(\"Series dataset after the list of countries ISO 3166-1\", size=14)\n",
    "sns.despine(fig)"
   ]
  },
  {
   "source": [
    "df_initial_analysis(serie_copy, \"series copy\")"
   ],
   "cell_type": "code",
   "metadata": {},
   "execution_count": null,
   "outputs": []
  },
  {
   "cell_type": "code",
   "execution_count": null,
   "metadata": {},
   "outputs": [],
   "source": []
  },
  {
   "cell_type": "code",
   "execution_count": null,
   "metadata": {},
   "outputs": [],
   "source": []
  },
  {
   "cell_type": "code",
   "execution_count": null,
   "metadata": {},
   "outputs": [],
   "source": []
  },
  {
   "cell_type": "code",
   "execution_count": null,
   "metadata": {},
   "outputs": [],
   "source": []
  },
  {
   "source": [
    "## Analysis of data\n",
    "- Identify the data number by year.\n",
    "    - **`\"Foot Note\"`** dataset **`\"EdStatsFootNote.csv\"`**.<br>\n",
    "    L’année d’origine des données et aussi une description sur les indicateurs.\n",
    "- Identify the amount of data by:\n",
    "    - Country\n",
    "    - Region"
   ],
   "cell_type": "markdown",
   "metadata": {}
  },
  {
   "source": [
    "## Analysis of data"
   ],
   "cell_type": "markdown",
   "metadata": {}
  },
  {
   "cell_type": "code",
   "execution_count": null,
   "metadata": {},
   "outputs": [],
   "source": [
    "# Graph amount of data by year\n",
    "plt.figure(figsize=(18, 10))\n",
    "plt.title(\"Data numbers by year\", size=15)\n",
    "plot = sns.barplot(y=\"SeriesCode\", x=\"Year\", data=foot_note_copy.groupby(\"Year\").count().reset_index())\n",
    "plot.set_xticklabels(labels=foot_note_copy.groupby(\"Year\").count().reset_index()[\"Year\"], rotation=50, size=12)\n",
    "plot.set(xlabel=\"Years\", ylabel=\"Amount of data\")\n",
    "plt.show()"
   ]
  },
  {
   "cell_type": "code",
   "execution_count": null,
   "metadata": {},
   "outputs": [],
   "source": [
    "# Graph amount of data by country\n",
    "plt.figure(figsize=(20, 200))\n",
    "plt.title(\"Data numbers by country\", size=15)\n",
    "plot = sns.barplot(x=data_copy.groupby(\"Country Name\")[[\"1970\", \"1971\", \"1972\", \"1973\", \"1974\", \"1975\", \"1976\", \"1977\", \n",
    "                                                   \"1978\", \"1979\", \"1980\", \"1981\", \"1982\", \"1983\", \"1984\", \"1985\", \n",
    "                                                   \"1986\", \"1987\", \"1988\", \"1989\", \"1990\", \"1991\", \"1992\", \"1993\", \n",
    "                                                   \"1994\", \"1995\", \"1996\", \"1997\", \"1998\", \"1999\", \"2000\", \"2001\", \n",
    "                                                   \"2002\", \"2003\", \"2004\", \"2005\", \"2006\", \"2007\", \"2008\", \"2009\", \n",
    "                                                   \"2010\", \"2011\", \"2012\", \"2013\", \"2014\", \"2015\", \"2016\", \"2017\", \n",
    "                                                   \"2020\", \"2025\", \"2030\", \"2035\", \"2040\", \"2045\", \"2050\"]].count().sum(axis=1).sort_values().values,\n",
    "                   y=data_copy.groupby(\"Country Name\")[[\"1970\", \"1971\", \"1972\", \"1973\", \"1974\", \"1975\", \"1976\", \"1977\", \n",
    "                                                   \"1978\", \"1979\", \"1980\", \"1981\", \"1982\", \"1983\", \"1984\", \"1985\", \n",
    "                                                   \"1986\", \"1987\", \"1988\", \"1989\", \"1990\", \"1991\", \"1992\", \"1993\", \n",
    "                                                   \"1994\", \"1995\", \"1996\", \"1997\", \"1998\", \"1999\", \"2000\", \"2001\", \n",
    "                                                   \"2002\", \"2003\", \"2004\", \"2005\", \"2006\", \"2007\", \"2008\", \"2009\", \n",
    "                                                   \"2010\", \"2011\", \"2012\", \"2013\", \"2014\", \"2015\", \"2016\", \"2017\", \n",
    "                                                   \"2020\", \"2025\", \"2030\", \"2035\", \"2040\", \"2045\", \"2050\"]].count().sum(axis=1).sort_values().index\n",
    ")\n",
    "plot.set(xlabel=\"Amount of data\", ylabel=\"Countries\")\n",
    "plt.show()"
   ]
  },
  {
   "cell_type": "code",
   "execution_count": null,
   "metadata": {},
   "outputs": [],
   "source": [
    "# Adding column region into Data dataset\n",
    "data_copy = data_copy.merge(right = country_copy[['Country Code', 'Region']], \n",
    "                  on='Country Code', how='left')"
   ]
  },
  {
   "cell_type": "code",
   "execution_count": null,
   "metadata": {},
   "outputs": [],
   "source": [
    "data_copy.columns"
   ]
  },
  {
   "cell_type": "code",
   "execution_count": null,
   "metadata": {},
   "outputs": [],
   "source": [
    "# Graph amount of data by region\n",
    "plt.figure(figsize=(15, 10))\n",
    "plt.title(\"Data numbers by region\", size=15)\n",
    "plot = sns.barplot(x=data_copy.groupby(\"Region\")[[\"1970\", \"1971\", \"1972\", \"1973\", \"1974\", \"1975\", \"1976\", \"1977\", \n",
    "                                                   \"1978\", \"1979\", \"1980\", \"1981\", \"1982\", \"1983\", \"1984\", \"1985\", \n",
    "                                                   \"1986\", \"1987\", \"1988\", \"1989\", \"1990\", \"1991\", \"1992\", \"1993\", \n",
    "                                                   \"1994\", \"1995\", \"1996\", \"1997\", \"1998\", \"1999\", \"2000\", \"2001\", \n",
    "                                                   \"2002\", \"2003\", \"2004\", \"2005\", \"2006\", \"2007\", \"2008\", \"2009\", \n",
    "                                                   \"2010\", \"2011\", \"2012\", \"2013\", \"2014\", \"2015\", \"2016\", \"2017\", \n",
    "                                                   \"2020\", \"2025\", \"2030\", \"2035\", \"2040\", \"2045\", \"2050\"]].count().sum(axis=1).sort_values().values,\n",
    "                   y=data_copy.groupby(\"Region\")[[\"1970\", \"1971\", \"1972\", \"1973\", \"1974\", \"1975\", \"1976\", \"1977\", \n",
    "                                                   \"1978\", \"1979\", \"1980\", \"1981\", \"1982\", \"1983\", \"1984\", \"1985\", \n",
    "                                                   \"1986\", \"1987\", \"1988\", \"1989\", \"1990\", \"1991\", \"1992\", \"1993\", \n",
    "                                                   \"1994\", \"1995\", \"1996\", \"1997\", \"1998\", \"1999\", \"2000\", \"2001\", \n",
    "                                                   \"2002\", \"2003\", \"2004\", \"2005\", \"2006\", \"2007\", \"2008\", \"2009\", \n",
    "                                                   \"2010\", \"2011\", \"2012\", \"2013\", \"2014\", \"2015\", \"2016\", \"2017\", \n",
    "                                                   \"2020\", \"2025\", \"2030\", \"2035\", \"2040\", \"2045\", \"2050\"]].count().sum(axis=1).sort_values().index\n",
    ")\n",
    "plot.set(xlabel=\"Amount of data\", ylabel=\"Regions\")\n",
    "plt.show()"
   ]
  },
  {
   "cell_type": "code",
   "execution_count": null,
   "metadata": {},
   "outputs": [],
   "source": [
    "# Graph countries by region\n",
    "df_countries_by_region = country_copy[[\"Short Name\", \"Region\"]].groupby(\"Region\").count()\n",
    "\n",
    "plt.figure(figsize=(15, 10))\n",
    "plt.title(\"Countries by region\", size=15)\n",
    "plot = sns.barplot(x=\"Region\", y=\"Short Name\", data=df_countries_by_region.reset_index())\n",
    "for p in plot.patches:\n",
    "    plot.annotate(format(p.get_height(), \".1f\"), (p.get_x() + p.get_width() / 2., p.get_height()), \n",
    "                    ha=\"center\", va=\"center\", xytext=(0, 9), textcoords=\"offset points\")\n",
    "plt.xlabel(\"Regions\", size=12)\n",
    "plt.ylabel(\"Amount of countries\", size=12)\n",
    "plot.set_xticklabels(labels=plot.get_xticklabels(), rotation=50, size=12, horizontalalignment=\"right\")\n",
    "plt.show()"
   ]
  },
  {
   "cell_type": "code",
   "execution_count": null,
   "metadata": {},
   "outputs": [],
   "source": []
  },
  {
   "cell_type": "code",
   "execution_count": null,
   "metadata": {},
   "outputs": [],
   "source": []
  },
  {
   "cell_type": "code",
   "execution_count": null,
   "metadata": {},
   "outputs": [],
   "source": []
  },
  {
   "cell_type": "code",
   "execution_count": null,
   "metadata": {},
   "outputs": [],
   "source": []
  },
  {
   "cell_type": "code",
   "execution_count": null,
   "metadata": {},
   "outputs": [],
   "source": []
  },
  {
   "cell_type": "code",
   "execution_count": null,
   "metadata": {},
   "outputs": [],
   "source": []
  },
  {
   "cell_type": "code",
   "execution_count": null,
   "metadata": {},
   "outputs": [],
   "source": []
  },
  {
   "cell_type": "code",
   "execution_count": null,
   "metadata": {},
   "outputs": [],
   "source": []
  },
  {
   "cell_type": "code",
   "execution_count": null,
   "metadata": {},
   "outputs": [],
   "source": [
    "df_comparison = comparison_dfs(serie, serie_copy)\n",
    "df_comparison"
   ]
  },
  {
   "cell_type": "code",
   "execution_count": null,
   "metadata": {},
   "outputs": [],
   "source": [
    "dt = df_comparison.melt(id_vars=\"Moment\").rename(columns=str.title)\n",
    "dt"
   ]
  },
  {
   "cell_type": "code",
   "execution_count": null,
   "metadata": {},
   "outputs": [],
   "source": [
    "fig, ax1 = plt.subplots(figsize=(10, 10))\n",
    "\n",
    "plot = sns.barplot(x=\"Moment\", y=\"Value\", data=dt, hue=\"Variable\", ax=ax1)\n",
    "for p in plot.patches:\n",
    "    plot.annotate(format(p.get_height(), \".1f\"), (p.get_x() + p.get_width() / 2., p.get_height()), \n",
    "                    ha=\"center\", va=\"center\", xytext=(0, 9), textcoords=\"offset points\")\n",
    "plt.xlabel(\"Comparison moments\", size=12)\n",
    "plt.ylabel(\"Number of records\", size=12)\n",
    "plt.title(\"Series dataset after the list of countries ISO 3166-1\", size=14)\n",
    "sns.despine(fig)"
   ]
  },
  {
   "cell_type": "code",
   "execution_count": null,
   "metadata": {},
   "outputs": [],
   "source": []
  },
  {
   "cell_type": "code",
   "execution_count": null,
   "metadata": {},
   "outputs": [],
   "source": []
  },
  {
   "cell_type": "code",
   "execution_count": null,
   "metadata": {},
   "outputs": [],
   "source": []
  },
  {
   "cell_type": "code",
   "execution_count": null,
   "metadata": {},
   "outputs": [],
   "source": []
  },
  {
   "cell_type": "code",
   "execution_count": null,
   "metadata": {},
   "outputs": [],
   "source": []
  },
  {
   "cell_type": "code",
   "execution_count": null,
   "metadata": {},
   "outputs": [],
   "source": []
  },
  {
   "cell_type": "code",
   "execution_count": null,
   "metadata": {},
   "outputs": [],
   "source": []
  },
  {
   "cell_type": "code",
   "execution_count": null,
   "metadata": {},
   "outputs": [],
   "source": []
  },
  {
   "cell_type": "code",
   "execution_count": null,
   "metadata": {},
   "outputs": [],
   "source": []
  },
  {
   "cell_type": "code",
   "execution_count": null,
   "metadata": {},
   "outputs": [],
   "source": []
  },
  {
   "cell_type": "code",
   "execution_count": null,
   "metadata": {},
   "outputs": [],
   "source": []
  },
  {
   "cell_type": "code",
   "execution_count": null,
   "metadata": {},
   "outputs": [],
   "source": []
  },
  {
   "cell_type": "code",
   "execution_count": null,
   "metadata": {},
   "outputs": [],
   "source": [
    "\n"
   ]
  },
  {
   "cell_type": "code",
   "execution_count": null,
   "metadata": {},
   "outputs": [],
   "source": []
  },
  {
   "cell_type": "code",
   "execution_count": null,
   "metadata": {},
   "outputs": [],
   "source": [
    "\n"
   ]
  },
  {
   "cell_type": "code",
   "execution_count": null,
   "metadata": {},
   "outputs": [],
   "source": []
  },
  {
   "cell_type": "code",
   "execution_count": null,
   "metadata": {},
   "outputs": [],
   "source": []
  },
  {
   "cell_type": "code",
   "execution_count": null,
   "metadata": {},
   "outputs": [],
   "source": []
  }
 ],
 "metadata": {
  "kernelspec": {
   "name": "python392jvsc74a57bd04cd7ab41f5fca4b9b44701077e38c5ffd31fe66a6cab21e0214b68d958d0e462",
   "display_name": "Python 3.9.2 64-bit"
  },
  "language_info": {
   "codemirror_mode": {
    "name": "ipython",
    "version": 3
   },
   "file_extension": ".py",
   "mimetype": "text/x-python",
   "name": "python",
   "nbconvert_exporter": "python",
   "pygments_lexer": "ipython3",
   "version": "3.9.2-final"
  }
 },
 "nbformat": 4,
 "nbformat_minor": 2
}