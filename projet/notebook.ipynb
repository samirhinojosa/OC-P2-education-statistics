{
 "metadata": {
  "language_info": {
   "codemirror_mode": {
    "name": "ipython",
    "version": 3
   },
   "file_extension": ".py",
   "mimetype": "text/x-python",
   "name": "python",
   "nbconvert_exporter": "python",
   "pygments_lexer": "ipython3",
   "version": "3.9.2-final"
  },
  "orig_nbformat": 2,
  "kernelspec": {
   "name": "python392jvsc74a57bd04cd7ab41f5fca4b9b44701077e38c5ffd31fe66a6cab21e0214b68d958d0e462",
   "display_name": "Python 3.9.2 64-bit",
   "language": "python"
  }
 },
 "nbformat": 4,
 "nbformat_minor": 2,
 "cells": [
  {
   "source": [
    "# Analyze data from education systems"
   ],
   "cell_type": "markdown",
   "metadata": {}
  },
  {
   "cell_type": "code",
   "execution_count": 1,
   "metadata": {},
   "outputs": [],
   "source": [
    "import pandas as pd\n",
    "from helpers import df_initial_analysis"
   ]
  },
  {
   "source": [
    "## Initial data analysis"
   ],
   "cell_type": "markdown",
   "metadata": {}
  },
  {
   "cell_type": "code",
   "execution_count": 2,
   "metadata": {},
   "outputs": [
    {
     "output_type": "stream",
     "name": "stdout",
     "text": [
      "fasf\n\nThe country dataset shape is: 241 rows & 32 columns\nTotal of NaN values in the country dataset is: 2354\nPercentage of NaN values in the country dataset is: 30.52 %\nThere are 0 full duplicates rows\nThere are 1 empty columns\n   The empty columns are: ['Unnamed: 31']\n------------------------------------------------------------------------\n\nNumber of values/records per columns in country dataset\nCountry Code                                         241\nLong Name                                            241\nShort Name                                           241\nTable Name                                           241\nWB-2 code                                            240\n2-alpha code                                         238\nCurrency Unit                                        215\nSystem of National Accounts                          215\nRegion                                               214\nIncome Group                                         214\nLatest population census                             213\nNational accounts base year                          205\nSystem of trade                                      200\nSNA price valuation                                  197\nLatest trade data                                    185\nBalance of Payments Manual in use                    181\nIMF data dissemination standard                      181\nLatest water withdrawal data                         179\nGovernment Accounting concept                        161\nSource of most recent Income and expenditure data    160\nPPP survey year                                      145\nSpecial Notes                                        145\nLending category                                     144\nLatest agricultural census                           142\nLatest household survey                              141\nExternal debt Reporting status                       124\nVital registration complete                          111\nLatest industrial data                               107\nOther groups                                          58\nAlternative conversion factor                         47\nNational accounts reference year                      32\nUnnamed: 31                                            0\ndtype: int64\n"
     ]
    },
    {
     "output_type": "execute_result",
     "data": {
      "text/plain": [
       "<function helpers.df_initial_analysis(df, name_df)>"
      ]
     },
     "metadata": {},
     "execution_count": 2
    }
   ],
   "source": [
    "country = pd.read_csv(\"datasets/EdStatsCountry.csv\")\n",
    "df_initial_analysis(country, \"country\")\n",
    "df_initial_analysis"
   ]
  },
  {
   "cell_type": "code",
   "execution_count": 3,
   "metadata": {},
   "outputs": [
    {
     "output_type": "stream",
     "name": "stdout",
     "text": [
      "fasf\n\nThe serie dataset shape is: 3665 rows & 21 columns\nTotal of NaN values in the serie dataset is: 55203\nPercentage of NaN values in the serie dataset is: 71.72 %\nThere are 0 full duplicates rows\nThere are 6 empty columns\n   The empty columns are: ['Unit of measure', 'Notes from original source', 'Other web links', 'Related indicators', 'License Type', 'Unnamed: 20']\n------------------------------------------------------------------------\n\nNumber of values/records per columns in serie dataset\nSeries Code                            3665\nSource                                 3665\nIndicator Name                         3665\nLong definition                        3665\nTopic                                  3665\nShort definition                       2156\nOther notes                             552\nBase Period                             314\nRelated source links                    215\nPeriodicity                              99\nAggregation method                       47\nStatistical concept and methodology      23\nLimitations and exceptions               14\nGeneral comments                         14\nDevelopment relevance                     3\nNotes from original source                0\nUnit of measure                           0\nOther web links                           0\nRelated indicators                        0\nLicense Type                              0\nUnnamed: 20                               0\ndtype: int64\n"
     ]
    }
   ],
   "source": [
    "serie = pd.read_csv(\"datasets/EdStatsSeries.csv\")\n",
    "df_initial_analysis(serie, \"serie\")"
   ]
  },
  {
   "cell_type": "code",
   "execution_count": 4,
   "metadata": {},
   "outputs": [
    {
     "output_type": "stream",
     "name": "stdout",
     "text": [
      "fasf\n\nThe country_serie dataset shape is: 613 rows & 4 columns\nTotal of NaN values in the country_serie dataset is: 613\nPercentage of NaN values in the country_serie dataset is: 25.0 %\nThere are 0 full duplicates rows\nThere are 1 empty columns\n   The empty columns are: ['Unnamed: 3']\n------------------------------------------------------------------------\n\nNumber of values/records per columns in country_serie dataset\nCountryCode    613\nSeriesCode     613\nDESCRIPTION    613\nUnnamed: 3       0\ndtype: int64\n"
     ]
    }
   ],
   "source": [
    "country_serie = pd.read_csv(\"datasets/EdStatsCountry-Series.csv\")\n",
    "df_initial_analysis(country_serie, \"country_serie\")"
   ]
  },
  {
   "cell_type": "code",
   "execution_count": 5,
   "metadata": {},
   "outputs": [
    {
     "output_type": "stream",
     "name": "stdout",
     "text": [
      "fasf\n",
      "\n",
      "The Foot Note dataset shape is: 643638 rows & 5 columns\n",
      "Total of NaN values in the Foot Note dataset is: 643638\n",
      "Percentage of NaN values in the Foot Note dataset is: 20.0 %\n",
      "There are 0 full duplicates rows\n",
      "There are 1 empty columns\n",
      "   The empty columns are: ['Unnamed: 4']\n",
      "------------------------------------------------------------------------\n",
      "\n",
      "Number of values/records per columns in Foot Note dataset\n",
      "CountryCode    643638\n",
      "SeriesCode     643638\n",
      "Year           643638\n",
      "DESCRIPTION    643638\n",
      "Unnamed: 4          0\n",
      "dtype: int64\n"
     ]
    }
   ],
   "source": [
    "df_foot_note = pd.read_csv(\"datasets/EdStatsFootNote.csv\")\n",
    "df_initial_analysis(df_foot_note, \"Foot Note\")"
   ]
  },
  {
   "cell_type": "code",
   "execution_count": 6,
   "metadata": {},
   "outputs": [
    {
     "output_type": "stream",
     "name": "stdout",
     "text": [
      "fasf\n\n"
     ]
    }
   ],
   "source": [
    "data = pd.read_csv(\"datasets/EdStatsData.csv\")\n",
    "df_initial_analysis(data, \"Data\")"
   ]
  },
  {
   "source": [
    "## Data cleanup"
   ],
   "cell_type": "markdown",
   "metadata": {}
  },
  {
   "cell_type": "code",
   "execution_count": 7,
   "metadata": {},
   "outputs": [
    {
     "output_type": "stream",
     "name": "stdout",
     "text": [
      "The Countries ISO dataset shape is: 249 rows & 2 columns\nTotal of NaN values in the Countries ISO dataset is: 0\nPercentage of NaN values in the Countries ISO dataset is: 0.0 %\nThere are 0 full duplicates rows\nThere are 0 empty columns\n------------------------------------------------------------------------\n\nNumber of values/records per columns in Countries ISO dataset\nName    249\nCode    249\ndtype: int64\n"
     ]
    }
   ],
   "source": [
    "# List of countries as given in ISO 3166-1 and the corresponding ISO 3166-1-alpha-2 code elements.  \n",
    "countries_iso = pd.read_csv(\"datasets/countries_ISO.csv\", sep=\",\", keep_default_na=False, \n",
    "                            encoding='utf-8') # Avoiding that \"NA\" will be interpreted as NaN by Pandas\n",
    "df_initial_analysis(countries_iso, \"Countries ISO\")"
   ]
  },
  {
   "cell_type": "code",
   "execution_count": 16,
   "metadata": {},
   "outputs": [
    {
     "output_type": "stream",
     "name": "stdout",
     "text": [
      "The df_country dataset shape is: 213 rows & 32 columns\nTotal of NaN values in the df_country dataset is: 1687\nPercentage of NaN values in the df_country dataset is: 24.75 %\nThere are 0 full duplicates rows\nThere are 1 empty columns\n   The empty columns are: ['Unnamed: 31']\n------------------------------------------------------------------------\n\nNumber of values/records per columns in df_country dataset\nCountry Code                                         213\nTable Name                                           213\nLong Name                                            213\n2-alpha code                                         213\nShort Name                                           213\nWB-2 code                                            213\nCurrency Unit                                        212\nSystem of National Accounts                          212\nRegion                                               211\nIncome Group                                         211\nLatest population census                             210\nNational accounts base year                          202\nSystem of trade                                      199\nSNA price valuation                                  194\nLatest trade data                                    184\nBalance of Payments Manual in use                    180\nIMF data dissemination standard                      179\nLatest water withdrawal data                         178\nGovernment Accounting concept                        160\nSource of most recent Income and expenditure data    158\nPPP survey year                                      144\nLending category                                     142\nLatest agricultural census                           141\nLatest household survey                              140\nExternal debt Reporting status                       123\nSpecial Notes                                        118\nVital registration complete                          110\nLatest industrial data                               107\nOther groups                                          58\nAlternative conversion factor                         47\nNational accounts reference year                      31\nUnnamed: 31                                            0\ndtype: int64\n"
     ]
    }
   ],
   "source": [
    "# Filter \"EdStatsCountry.csv\" based on the list of countries as given in ISO 3166-1\n",
    "df_country = country[country[\"2-alpha code\"].isin(countries_iso[\"Code\"])]\n",
    "df_initial_analysis(df_country, \"df_country\")"
   ]
  },
  {
   "cell_type": "code",
   "execution_count": 17,
   "metadata": {},
   "outputs": [],
   "source": [
    "df_country.to_csv(\"filtro.csv\", encoding='utf-8')"
   ]
  },
  {
   "cell_type": "code",
   "execution_count": null,
   "metadata": {},
   "outputs": [],
   "source": []
  }
 ]
}